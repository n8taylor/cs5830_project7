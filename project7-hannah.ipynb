{
 "cells": [
  {
   "cell_type": "markdown",
   "metadata": {},
   "source": [
    "#### Notes\n",
    "\n",
    "* both schools are located in Portugal\n",
    "* age of majority in Portugal is 18 (like in US)\n",
    "* a score of 10 is the lowest possible passing grade"
   ]
  },
  {
   "cell_type": "code",
   "execution_count": null,
   "metadata": {},
   "outputs": [],
   "source": [
    "import numpy as np\n",
    "import pandas as pd\n",
    "import seaborn as sns\n",
    "import matplotlib.pyplot as plt\n",
    "from sklearn.linear_model import LogisticRegression\n",
    "from sklearn.metrics import precision_recall_fscore_support"
   ]
  },
  {
   "cell_type": "code",
   "execution_count": null,
   "metadata": {},
   "outputs": [],
   "source": [
    "df_math = pd.read_csv(\"student-mat.csv\")\n",
    "df_math['pass'] = [1 if score >= 10 else 0 for score in df_math.G3]\n",
    "df_math.columns"
   ]
  },
  {
   "cell_type": "code",
   "execution_count": null,
   "metadata": {},
   "outputs": [],
   "source": [
    "plt.figure(figsize=(10,5))\n",
    "sns.histplot(\n",
    "  data=df_math,\n",
    "  x='Walc',\n",
    "  hue='pass',\n",
    "  shrink=0.8,\n",
    "  discrete=True,\n",
    "  multiple='dodge'\n",
    ")\n",
    "plt.xlabel('Weekend Alcohol Consumption')"
   ]
  },
  {
   "cell_type": "code",
   "execution_count": null,
   "metadata": {},
   "outputs": [],
   "source": [
    "plt.figure(figsize=(10,5))\n",
    "sns.histplot(\n",
    "  data=df_math,\n",
    "  x='Dalc',\n",
    "  hue='pass',\n",
    "  shrink=0.8,\n",
    "  discrete=True,\n",
    "  multiple='dodge'\n",
    ")\n",
    "plt.xlabel('Workday Alcohol Consumption')"
   ]
  },
  {
   "cell_type": "code",
   "execution_count": null,
   "metadata": {},
   "outputs": [],
   "source": [
    "df = df_math.copy()\n",
    "\n",
    "df.failures = (df.failures - df.failures.mean()) / df.failures.std() # number of past class failures\n",
    "df.higher = [1 if e == 'yes' else 0 if e == 'no' else None for e in df.higher] # wants to take higher education\n",
    "df.absences = (df.absences - df.absences.mean()) / df.absences.std() # number of school absences\n",
    "df.goout = (df.goout - df.goout.mean()) / df.goout.std() # going out with friends"
   ]
  },
  {
   "cell_type": "code",
   "execution_count": null,
   "metadata": {},
   "outputs": [],
   "source": [
    "X = df[['failures', 'higher', 'absences', 'goout']]\n",
    "y = df['pass']\n",
    "\n",
    "lm = LogisticRegression(class_weight={0:0.65, 1:0.25, 2:0.05, 3:0.05,})\n",
    "\n",
    "lm.fit(X, y)\n",
    "y_pred = lm.predict(X)\n",
    "\n",
    "display('predicted range: [{0:.2f},{1:.2f}]'.format(min(y_pred), max(y_pred)))\n",
    "\n",
    "p,r,f,s = precision_recall_fscore_support(y, y_pred, labels=[1,0])\n",
    "display('precision = {}'.format(p[0]))\n",
    "display('recall = {}'.format(r[0]))\n",
    "display('f-score = {}'.format(f[0]))"
   ]
  },
  {
   "cell_type": "code",
   "execution_count": null,
   "metadata": {},
   "outputs": [],
   "source": [
    "df_por = pd.read_csv(\"student-por.csv\")\n",
    "df_por['pass'] = [1 if score >= 10 else 0 for score in df_por.G3]\n",
    "df_por.columns"
   ]
  },
  {
   "cell_type": "code",
   "execution_count": null,
   "metadata": {},
   "outputs": [],
   "source": [
    "plt.figure(figsize=(10,5))\n",
    "sns.histplot(\n",
    "  data=df_por,\n",
    "  x='Walc',\n",
    "  hue='pass',\n",
    "  shrink=0.8,\n",
    "  discrete=True,\n",
    "  multiple='dodge'\n",
    ")\n",
    "plt.xlabel('Weekend Alcohol Consumption')"
   ]
  },
  {
   "cell_type": "code",
   "execution_count": null,
   "metadata": {},
   "outputs": [],
   "source": [
    "plt.figure(figsize=(10,5))\n",
    "sns.histplot(\n",
    "  data=df_por,\n",
    "  x='Dalc',\n",
    "  hue='pass',\n",
    "  shrink=0.8,\n",
    "  discrete=True,\n",
    "  multiple='dodge'\n",
    ")\n",
    "plt.xlabel('Weekend Alcohol Consumption')"
   ]
  },
  {
   "cell_type": "code",
   "execution_count": null,
   "metadata": {},
   "outputs": [],
   "source": [
    "df = df_por.copy()\n",
    "\n",
    "df.failures = (df.failures - df.failures.mean()) / df.failures.std() # number of past class failures\n",
    "df.higher = [1 if e == 'yes' else 0 if e == 'no' else None for e in df.higher] # wants to take higher education\n",
    "df.absences = (df.absences - df.absences.mean()) / df.absences.std() # number of school absences\n",
    "df.goout = (df.goout - df.goout.mean()) / df.goout.std() # going out with friends"
   ]
  },
  {
   "cell_type": "code",
   "execution_count": null,
   "metadata": {},
   "outputs": [],
   "source": [
    "X = df[['failures', 'higher', 'absences', 'goout']]\n",
    "y = df['pass']\n",
    "\n",
    "lm = LogisticRegression(class_weight={0:0.65, 1:0.25, 2:0.05, 3:0.05,})\n",
    "\n",
    "lm.fit(X, y)\n",
    "y_pred = lm.predict(X)\n",
    "\n",
    "display('predicted range: [{0:.2f},{1:.2f}]'.format(min(y_pred), max(y_pred)))\n",
    "\n",
    "p,r,f,s = precision_recall_fscore_support(y, y_pred, labels=[1,0])\n",
    "display('precision = {}'.format(p[0]))\n",
    "display('recall = {}'.format(r[0]))\n",
    "display('f-score = {}'.format(f[0]))"
   ]
  }
 ],
 "metadata": {
  "kernelspec": {
   "display_name": "Python 3",
   "language": "python",
   "name": "python3"
  },
  "language_info": {
   "codemirror_mode": {
    "name": "ipython",
    "version": 3
   },
   "file_extension": ".py",
   "mimetype": "text/x-python",
   "name": "python",
   "nbconvert_exporter": "python",
   "pygments_lexer": "ipython3",
   "version": "3.10.12"
  }
 },
 "nbformat": 4,
 "nbformat_minor": 2
}
